{
 "cells": [
  {
   "cell_type": "markdown",
   "id": "fe7a099a",
   "metadata": {},
   "source": [
    "# Object Oriented Programming\n",
    "Object-Oriented Programming (OOP) is a programming paradigm centered around the concept of \"objects,\" which can represent real-world entities or abstract concepts. In OOP, objects are instances of classes, which serve as blueprints for defining the properties (attributes) and behaviors (methods) of these objects. Python, like many other programming languages, supports OOP, making it possible to write reusable and organized code.<br>\n"
   ]
  },
  {
   "cell_type": "markdown",
   "id": "2ec729ec",
   "metadata": {},
   "source": [
    "The main concepts of OOP in Python are:"
   ]
  },
  {
   "cell_type": "markdown",
   "id": "dabac0b2",
   "metadata": {},
   "source": [
    "<img src=\"https://onlineitguru.com/storage/course_files/1609476851_Python%20OOPs%20concepts.png\" width=\"300\">\n"
   ]
  },
  {
   "cell_type": "markdown",
   "id": "4fc6267b",
   "metadata": {},
   "source": [
    "## 1. Classes and Objects"
   ]
  },
  {
   "cell_type": "markdown",
   "id": "e2695b03",
   "metadata": {},
   "source": [
    "**Class:** A class is like a blueprint for an object. It defines what attributes (data) and methods (behaviors) an object will have.<br>\n",
    "**Object:** An object is an instance of a class. Each object can have unique data but will have the structure defined by its class."
   ]
  },
  {
   "cell_type": "code",
   "execution_count": 1,
   "id": "41670e20",
   "metadata": {},
   "outputs": [],
   "source": [
    "class Dog:\n",
    "    def __init__(self, name, breed):\n",
    "        self.name = name  # attribute for the dog's name\n",
    "        self.breed = breed  # attribute for the dog's breed\n",
    "\n",
    "    def bark(self):\n",
    "        return \"Woof!\"  # method representing the dog's bark sound"
   ]
  },
  {
   "cell_type": "markdown",
   "id": "fd4337d0",
   "metadata": {},
   "source": [
    "* Here, we define a class called Dog. The `__init__` method is a special method (constructor) that initializes the object with specific attributes like name and breed.\n",
    "* self is a reference to the current instance of the class. It allows us to assign values to an object’s attributes.\n",
    "* bark is a method (function within the class) that represents an action the dog can perform."
   ]
  },
  {
   "cell_type": "code",
   "execution_count": 2,
   "id": "289a33f1",
   "metadata": {},
   "outputs": [
    {
     "name": "stdout",
     "output_type": "stream",
     "text": [
      "Woof!\n"
     ]
    }
   ],
   "source": [
    "my_dog = Dog(\"Buddy\", \"Golden Retriever\")  # Create an object `my_dog`\n",
    "print(my_dog.bark())  # Output: Woof!"
   ]
  },
  {
   "cell_type": "markdown",
   "id": "17b352c0",
   "metadata": {},
   "source": [
    "* We create an instance my_dog of the class Dog, passing \"Buddy\" and \"Golden Retriever\" as the name and breed, respectively.\n",
    "* Calling my_dog.bark() executes the bark method and returns \"Woof!\"."
   ]
  },
  {
   "cell_type": "markdown",
   "id": "38d3052c",
   "metadata": {},
   "source": [
    "###  What is Constructor?"
   ]
  },
  {
   "cell_type": "markdown",
   "id": "4f2b955f",
   "metadata": {},
   "source": [
    "A constructor in object-oriented programming (OOP) is a special method that is automatically called when an object is created from a class. Its primary purpose is to initialize the object's attributes (or properties) with initial values. In Python, the constructor method is defined with the special name `__init__()`."
   ]
  },
  {
   "cell_type": "markdown",
   "id": "0a349828",
   "metadata": {},
   "source": [
    "Key Points about Constructors in Python:\n",
    "\n",
    "   **Naming:** In Python, the constructor is always named `__init__()`.<br>\n",
    "   **Automatic Call:** The `__init__()` method is automatically invoked when a new instance (object) of a class is created.<br>\n",
    "   **Initial Setup:** It’s commonly used to initialize attributes and set up any initial state that the object should have when it is created."
   ]
  },
  {
   "cell_type": "code",
   "execution_count": 3,
   "id": "c70c3b32",
   "metadata": {},
   "outputs": [
    {
     "name": "stdout",
     "output_type": "stream",
     "text": [
      "Alice\n",
      "30\n"
     ]
    }
   ],
   "source": [
    "class Person:\n",
    "    def __init__(self, name, age):  # Constructor with parameters\n",
    "        self.name = name  # Assigns the name parameter to the object's `name` attribute\n",
    "        self.age = age    # Assigns the age parameter to the object's `age` attribute\n",
    "\n",
    "# Creating an object of the Person class\n",
    "person1 = Person(\"Alice\", 30)\n",
    "\n",
    "print(person1.name)  # Output: Alice\n",
    "print(person1.age)   # Output: 30"
   ]
  },
  {
   "cell_type": "markdown",
   "id": "8343d11c",
   "metadata": {},
   "source": [
    "In this example:\n",
    "\n",
    "   * The `__init__()` method takes name and age as parameters.\n",
    "   * When person1 = Person(\"Alice\", 30) is executed, the `__init__()` method initializes the name and age attributes of person1 with \"Alice\" and 30, respectively.\n",
    "   * person1.name and person1.age now hold these values, making them specific to this instance"
   ]
  },
  {
   "cell_type": "markdown",
   "id": "33e2e0ce",
   "metadata": {},
   "source": [
    "## Example 1"
   ]
  },
  {
   "cell_type": "code",
   "execution_count": 4,
   "id": "ed2fee12",
   "metadata": {},
   "outputs": [
    {
     "name": "stdout",
     "output_type": "stream",
     "text": [
      "\n",
      "            Hi, how can I help you?\n",
      "            1. Press 1 to create PIN\n",
      "            2. Press 2 to change PIN\n",
      "            3. Press 3 to check balance\n",
      "            4. Press 4 to withdraw balance\n",
      "            5. Press any other key to exit\n",
      "            5\n",
      "Exiting...\n"
     ]
    }
   ],
   "source": [
    "class Atm:\n",
    "\n",
    "    def __init__(self):\n",
    "        self.pin = ''\n",
    "        self.balance = 0\n",
    "        self.menu()\n",
    "\n",
    "    def menu(self):\n",
    "        while True:  # Using a loop to keep displaying the menu\n",
    "            user_input = input(\"\"\"\n",
    "            Hi, how can I help you?\n",
    "            1. Press 1 to create PIN\n",
    "            2. Press 2 to change PIN\n",
    "            3. Press 3 to check balance\n",
    "            4. Press 4 to withdraw balance\n",
    "            5. Press any other key to exit\n",
    "            \"\"\")\n",
    "            \n",
    "            if user_input == '1':\n",
    "                self.create_pin()\n",
    "            elif user_input == '2':\n",
    "                self.change_pin()\n",
    "            elif user_input == '3':\n",
    "                self.check_balance()\n",
    "            elif user_input == '4':\n",
    "                self.withdraw()\n",
    "            else:\n",
    "                print(\"Exiting...\")\n",
    "                break  # Exit the loop and end the program\n",
    "\n",
    "    def create_pin(self):\n",
    "        user_pin = int(input('Enter your new PIN: '))\n",
    "        self.pin = user_pin\n",
    "        \n",
    "        user_balance = int(input('Enter initial balance: '))\n",
    "        self.balance = user_balance\n",
    "        print('PIN created successfully!')\n",
    "\n",
    "    def change_pin(self):\n",
    "        old_pin = int(input('Enter your current PIN: '))\n",
    "        \n",
    "        if old_pin == self.pin:\n",
    "            new_pin = int(input('Enter new PIN: '))\n",
    "            self.pin = new_pin\n",
    "            print('PIN changed successfully!')\n",
    "        else:\n",
    "            print('Incorrect PIN, please try again.')\n",
    "\n",
    "    def check_balance(self):\n",
    "        user_pin = int(input('Enter your PIN: '))\n",
    "        \n",
    "        if user_pin == self.pin:\n",
    "            print('Your balance is:', self.balance)\n",
    "        else:\n",
    "            print('Incorrect PIN, please try again.')\n",
    "\n",
    "    def withdraw(self):\n",
    "        user_pin = int(input('Enter your PIN: '))\n",
    "        \n",
    "        if user_pin == self.pin:\n",
    "            withdraw_amount = int(input('Enter the amount to withdraw: '))\n",
    "            \n",
    "            if withdraw_amount > self.balance:\n",
    "                print('Insufficient balance!')\n",
    "            else:\n",
    "                self.balance -= withdraw_amount\n",
    "                print(f'You have withdrawn {withdraw_amount}. Remaining balance: {self.balance}')\n",
    "        else:\n",
    "            print('Incorrect PIN, please try again.')\n",
    "\n",
    "# Create an ATM object to use the class\n",
    "atm = Atm()"
   ]
  },
  {
   "cell_type": "markdown",
   "id": "d4e82e51",
   "metadata": {},
   "source": [
    "## Example 2:\n",
    "## You are tasked with implementing a Python class named Fraction that represents a mathematical fraction. This class should be able to perform the following operations on fractions: \n",
    "* addition\n",
    "* subtraction, \n",
    "* multiplication, \n",
    "* division, and conversion to decimal format.<br>\n",
    "The fractions should be represented in the form `numerator/denominator`"
   ]
  },
  {
   "cell_type": "code",
   "execution_count": 39,
   "id": "31d6be0f",
   "metadata": {},
   "outputs": [],
   "source": [
    "class Fraction:\n",
    "    \n",
    "    def __init__(self,x,y):\n",
    "        self.num=x\n",
    "        self.den=y\n",
    "        \n",
    "    def __str__(self):\n",
    "        return '{}/{}'.format(self.num,self.den)\n",
    "    \n",
    "    def __add__(self,other):\n",
    "        new_num=self.num*other.den+other.den*self.num\n",
    "        new_den=self.den*self.num\n",
    "        \n",
    "        return '{}/{}'.format(new_num,new_den)\n",
    "    \n",
    "    def __sub__(self,other):\n",
    "        new_num=self.num*other.den-self.den*other.num\n",
    "        new_den=self.den*self.num\n",
    "        \n",
    "        return '{}/{}'.format(new_num,new_den)\n",
    "    \n",
    "    def __mul__(self,other):\n",
    "        new_num=self.num*other.num\n",
    "        new_den=self.den*other.den\n",
    "        \n",
    "        return '{}/{}'.format(new_num,new_den)\n",
    "    \n",
    "    def __truediv__(self,other):\n",
    "        new_num=self.num*other.den \n",
    "        new_den=self.den*other.num\n",
    "        \n",
    "        return '{}/{}'.format(new_num,new_den)\n",
    "        \n",
    "        \n",
    "    def convert_to_decimal(self):\n",
    "        return self.num/self.den "
   ]
  },
  {
   "cell_type": "code",
   "execution_count": 40,
   "id": "75c49576",
   "metadata": {},
   "outputs": [],
   "source": [
    "fr1=Fraction(4,5)\n",
    "fr2=Fraction(1,8)"
   ]
  },
  {
   "cell_type": "code",
   "execution_count": 41,
   "id": "35eb74fa",
   "metadata": {},
   "outputs": [
    {
     "data": {
      "text/plain": [
       "'64/20'"
      ]
     },
     "execution_count": 41,
     "metadata": {},
     "output_type": "execute_result"
    }
   ],
   "source": [
    "fr1+fr2"
   ]
  },
  {
   "cell_type": "code",
   "execution_count": 42,
   "id": "6569566d",
   "metadata": {},
   "outputs": [
    {
     "name": "stdout",
     "output_type": "stream",
     "text": [
      "27/20\n",
      "64/20\n",
      "4/40\n",
      "32/5\n"
     ]
    }
   ],
   "source": [
    "print(fr1-fr2)\n",
    "print(fr1+fr2)\n",
    "print(fr1*fr2)\n",
    "print(fr1/fr2)"
   ]
  },
  {
   "cell_type": "markdown",
   "id": "0cd3b623",
   "metadata": {},
   "source": [
    "##  Example 3\n",
    "### Write OOP classes to handle the following scenarios:\n",
    "\n",
    "- A user can create and view 2D coordinates\n",
    "- A user can find out the distance between 2 coordinates\n",
    "- A user can find find the distance of a coordinate from origin\n",
    "- A user can check if a point lies on a given line\n",
    "- A user can find the distance between a given 2D point and a given line"
   ]
  },
  {
   "cell_type": "code",
   "execution_count": 9,
   "id": "eb55f84a",
   "metadata": {},
   "outputs": [],
   "source": [
    "class Point:\n",
    "    \n",
    "    def __init__(self,x,y):\n",
    "        self.x_coord=x\n",
    "        self.y_coord=y\n",
    "        \n",
    "    def __str__(self):\n",
    "        return '{},{}'.format(self.x_coord,self.y_coord)\n",
    "    \n",
    "    def distance_between_points(self,other):\n",
    "        return ((self.x_coord-other.x_coord)**2+(self.y_coord-other.y_coord)**2)**0.5\n",
    "    \n",
    "    def distance_from_origin(self):\n",
    "        return (self.x_coord**2+self.y_coord**2)**0.5\n",
    "        \n",
    "class Line:\n",
    "    \n",
    "    def __init__(self,A,B,C):\n",
    "        self.A=A\n",
    "        self.B=B\n",
    "        self.C=C\n",
    "        \n",
    "    def __str__(self):\n",
    "        return '{}x+{}y+{}=0'.format(self.A,self.B,self.C)\n",
    "    \n",
    "    def point_on_line(line,point):\n",
    "        if line.A*point.x_coord + line.B*point.y_coord + line.C==0:\n",
    "            return 'point lies on the line'\n",
    "        else:\n",
    "            return 'point does not lie on the line' "
   ]
  },
  {
   "cell_type": "code",
   "execution_count": 10,
   "id": "cea2f13d",
   "metadata": {},
   "outputs": [
    {
     "name": "stdout",
     "output_type": "stream",
     "text": [
      "4x+5y+0=0\n",
      "1,4\n"
     ]
    },
    {
     "data": {
      "text/plain": [
       "'point does not lie on the line'"
      ]
     },
     "execution_count": 10,
     "metadata": {},
     "output_type": "execute_result"
    }
   ],
   "source": [
    "l1=Line(4,5,0)\n",
    "pt1=Point(1,4)\n",
    "print(l1)\n",
    "print(pt1)\n",
    "l1.point_on_line(pt1)"
   ]
  },
  {
   "cell_type": "markdown",
   "id": "e781a7e4",
   "metadata": {},
   "source": [
    "## 2. Encapsulation"
   ]
  },
  {
   "cell_type": "markdown",
   "id": "3671535f",
   "metadata": {},
   "source": [
    "* Encapsulation is about hiding data and methods to restrict direct access from outside the class, which helps prevent accidental modification.\n",
    "* In Python, private attributes and methods are conventionally marked with a leading underscore (_), though this is not strictly enforced."
   ]
  },
  {
   "cell_type": "markdown",
   "id": "18b3e3ac",
   "metadata": {},
   "source": [
    "### without Encapsulation"
   ]
  },
  {
   "cell_type": "code",
   "execution_count": 11,
   "id": "e6f71939",
   "metadata": {},
   "outputs": [],
   "source": [
    "class BankAccount:\n",
    "    def __init__(self, balance=0):\n",
    "        self.balance = balance  # `_balance` is a protected attribute\n",
    "\n",
    "    def deposit(self, amount):\n",
    "        self.balance += amount  # modify the balance internally\n",
    "\n",
    "    def withdraw(self, amount):\n",
    "        if amount <= self.balance:\n",
    "            self.balance -= amount\n",
    "        else:\n",
    "            print(\"Insufficient balance\")"
   ]
  },
  {
   "cell_type": "code",
   "execution_count": 12,
   "id": "99549aa9",
   "metadata": {},
   "outputs": [
    {
     "data": {
      "text/plain": [
       "120"
      ]
     },
     "execution_count": 12,
     "metadata": {},
     "output_type": "execute_result"
    }
   ],
   "source": [
    "account = BankAccount(100)  # Initialize with a balance of 100\n",
    "account.deposit(50)  # Deposit 50\n",
    "account.withdraw(30)  # Withdraw 30\n",
    "account.balance"
   ]
  },
  {
   "cell_type": "markdown",
   "id": "9d32cc17",
   "metadata": {},
   "source": [
    "In the above example without using encapsulation we can access balance of user"
   ]
  },
  {
   "cell_type": "markdown",
   "id": "452c14f1",
   "metadata": {},
   "source": [
    "### With Encapsulation"
   ]
  },
  {
   "cell_type": "code",
   "execution_count": 13,
   "id": "3e7d9dc2",
   "metadata": {},
   "outputs": [],
   "source": [
    "class BankAccount:\n",
    "    def __init__(self, balance=0):\n",
    "        self.__balance = balance  # `_balance` is a protected attribute\n",
    "\n",
    "    def deposit(self, amount):\n",
    "        self.__balance += amount  # modify the balance internally\n",
    "\n",
    "    def withdraw(self, amount):\n",
    "        if amount <= self._balance:\n",
    "            self.__balance -= amount\n",
    "        else:\n",
    "            print(\"Insufficient balance\")"
   ]
  },
  {
   "cell_type": "markdown",
   "id": "2563b8fd",
   "metadata": {},
   "source": [
    "* Here, _balance is marked with an underscore, meaning it should be treated as a \"protected\" attribute.\n",
    "* The deposit and withdraw methods manage the balance, preventing direct access to _balance from outside the class, thus maintaining data integrity"
   ]
  },
  {
   "cell_type": "code",
   "execution_count": 43,
   "id": "31113945",
   "metadata": {},
   "outputs": [
    {
     "ename": "AttributeError",
     "evalue": "'BankAccount' object has no attribute '_balance'",
     "output_type": "error",
     "traceback": [
      "\u001b[1;31m---------------------------------------------------------------------------\u001b[0m",
      "\u001b[1;31mAttributeError\u001b[0m                            Traceback (most recent call last)",
      "Cell \u001b[1;32mIn[43], line 3\u001b[0m\n\u001b[0;32m      1\u001b[0m account \u001b[38;5;241m=\u001b[39m BankAccount(\u001b[38;5;241m100\u001b[39m)  \u001b[38;5;66;03m# Initialize with a balance of 100\u001b[39;00m\n\u001b[0;32m      2\u001b[0m account\u001b[38;5;241m.\u001b[39mdeposit(\u001b[38;5;241m50\u001b[39m)  \u001b[38;5;66;03m# Deposit 50\u001b[39;00m\n\u001b[1;32m----> 3\u001b[0m \u001b[43maccount\u001b[49m\u001b[38;5;241;43m.\u001b[39;49m\u001b[43mwithdraw\u001b[49m\u001b[43m(\u001b[49m\u001b[38;5;241;43m30\u001b[39;49m\u001b[43m)\u001b[49m  \u001b[38;5;66;03m# Withdraw 30\u001b[39;00m\n\u001b[0;32m      4\u001b[0m account\u001b[38;5;241m.\u001b[39mbalance\n",
      "Cell \u001b[1;32mIn[13], line 9\u001b[0m, in \u001b[0;36mBankAccount.withdraw\u001b[1;34m(self, amount)\u001b[0m\n\u001b[0;32m      8\u001b[0m \u001b[38;5;28;01mdef\u001b[39;00m \u001b[38;5;21mwithdraw\u001b[39m(\u001b[38;5;28mself\u001b[39m, amount):\n\u001b[1;32m----> 9\u001b[0m     \u001b[38;5;28;01mif\u001b[39;00m amount \u001b[38;5;241m<\u001b[39m\u001b[38;5;241m=\u001b[39m \u001b[38;5;28;43mself\u001b[39;49m\u001b[38;5;241;43m.\u001b[39;49m\u001b[43m_balance\u001b[49m:\n\u001b[0;32m     10\u001b[0m         \u001b[38;5;28mself\u001b[39m\u001b[38;5;241m.\u001b[39m__balance \u001b[38;5;241m-\u001b[39m\u001b[38;5;241m=\u001b[39m amount\n\u001b[0;32m     11\u001b[0m     \u001b[38;5;28;01melse\u001b[39;00m:\n",
      "\u001b[1;31mAttributeError\u001b[0m: 'BankAccount' object has no attribute '_balance'"
     ]
    }
   ],
   "source": [
    "account = BankAccount(100)  # Initialize with a balance of 100\n",
    "account.deposit(50)  # Deposit 50\n",
    "account.withdraw(30)  # Withdraw 30\n",
    "account.balance"
   ]
  },
  {
   "cell_type": "markdown",
   "id": "c771fd79",
   "metadata": {},
   "source": [
    "We create an instance `account` of `BankAccount` with an initial balance of 100.\n",
    "By calling `deposit` and `withdraw`, we interact with `_balance` indirectly, maintaining the encapsulation of the `BankAccount class`"
   ]
  },
  {
   "cell_type": "code",
   "execution_count": 15,
   "id": "1055421f",
   "metadata": {},
   "outputs": [
    {
     "data": {
      "text/plain": [
       "150"
      ]
     },
     "execution_count": 15,
     "metadata": {},
     "output_type": "execute_result"
    }
   ],
   "source": [
    "account._BankAccount__balance"
   ]
  },
  {
   "cell_type": "markdown",
   "id": "8a6510b9",
   "metadata": {},
   "source": [
    "but we can still access the balance by using above method"
   ]
  },
  {
   "cell_type": "markdown",
   "id": "8c4b6148",
   "metadata": {},
   "source": [
    "## 3. Inheritance\n",
    "\n",
    "   * Inheritance allows one class (child class) to inherit attributes and methods from another class (parent class).\n",
    "   * This reduces code duplication and establishes a relationship between classes"
   ]
  },
  {
   "cell_type": "code",
   "execution_count": 16,
   "id": "805042ff",
   "metadata": {},
   "outputs": [],
   "source": [
    "class Animal:\n",
    "    def speak(self):\n",
    "        return \"Some sound\"  # default sound for any animal"
   ]
  },
  {
   "cell_type": "markdown",
   "id": "ae591503",
   "metadata": {},
   "source": [
    "* `Animal` is the parent class that has a method `speak`. This method will be inherited by any subclass of `Animal`."
   ]
  },
  {
   "cell_type": "code",
   "execution_count": 17,
   "id": "820c53c6",
   "metadata": {},
   "outputs": [],
   "source": [
    "class Dog(Animal):  # `Dog` is a subclass of `Animal`\n",
    "    def speak(self):\n",
    "        return \"Woof!\"  # override `speak` for Dog class"
   ]
  },
  {
   "cell_type": "markdown",
   "id": "6fb874ea",
   "metadata": {},
   "source": [
    "The `Dog` class inherits from `Animal` and overrides the `speak` method to return \"Woof!\" instead of the generic \"Some sound.\""
   ]
  },
  {
   "cell_type": "markdown",
   "id": "f0b59ffc",
   "metadata": {},
   "source": [
    "## Example 1"
   ]
  },
  {
   "cell_type": "code",
   "execution_count": 46,
   "id": "ad348444",
   "metadata": {},
   "outputs": [],
   "source": [
    "class User:\n",
    "    \n",
    "    def __init__(self):\n",
    "        self.name='abc'\n",
    "        \n",
    "    def login(self):\n",
    "        print('login')\n",
    " \n",
    " # child class\n",
    "class Student(User):\n",
    "    \n",
    "#     def __init__(self):\n",
    "#         self.rollno=100\n",
    "        \n",
    "    def enroll(self):\n",
    "        print(self.name,'enroll into the course')"
   ]
  },
  {
   "cell_type": "code",
   "execution_count": 50,
   "id": "f77087e9",
   "metadata": {},
   "outputs": [
    {
     "name": "stdout",
     "output_type": "stream",
     "text": [
      "login\n",
      "abc enroll into the course\n"
     ]
    },
    {
     "data": {
      "text/plain": [
       "'abc'"
      ]
     },
     "execution_count": 50,
     "metadata": {},
     "output_type": "execute_result"
    }
   ],
   "source": [
    "# u=User()\n",
    "s=Student()\n",
    "\n",
    "# u.login()\n",
    "s.login()\n",
    "s.enroll() \n",
    "s.name"
   ]
  },
  {
   "cell_type": "code",
   "execution_count": 20,
   "id": "f6473b46",
   "metadata": {},
   "outputs": [
    {
     "ename": "AttributeError",
     "evalue": "'Student' object has no attribute 'name'",
     "output_type": "error",
     "traceback": [
      "\u001b[1;31m---------------------------------------------------------------------------\u001b[0m",
      "\u001b[1;31mAttributeError\u001b[0m                            Traceback (most recent call last)",
      "Cell \u001b[1;32mIn[20], line 21\u001b[0m\n\u001b[0;32m     18\u001b[0m u \u001b[38;5;241m=\u001b[39m User()\n\u001b[0;32m     19\u001b[0m s \u001b[38;5;241m=\u001b[39m Student()\n\u001b[1;32m---> 21\u001b[0m \u001b[38;5;28mprint\u001b[39m(\u001b[43ms\u001b[49m\u001b[38;5;241;43m.\u001b[39;49m\u001b[43mname\u001b[49m)\n\u001b[0;32m     22\u001b[0m s\u001b[38;5;241m.\u001b[39mlogin()\n\u001b[0;32m     23\u001b[0m s\u001b[38;5;241m.\u001b[39menroll()\n",
      "\u001b[1;31mAttributeError\u001b[0m: 'Student' object has no attribute 'name'"
     ]
    }
   ],
   "source": [
    "# Example\n",
    "# parent\n",
    "class User:\n",
    "    def __init__(self):\n",
    "        self.name = 'abc'\n",
    "        self.gender = 'male'\n",
    "    \n",
    "    def login(self):\n",
    "        print('login')\n",
    "\n",
    "# child\n",
    "class Student(User):\n",
    "    def __init__(self):\n",
    "        self.rollno = 100\n",
    "    def enroll(self):\n",
    "        print('enroll into the course')\n",
    "\n",
    "u = User()\n",
    "s = Student()\n",
    "\n",
    "print(s.name)\n",
    "s.login()\n",
    "s.enroll()"
   ]
  },
  {
   "cell_type": "code",
   "execution_count": 52,
   "id": "24c7c5e5",
   "metadata": {},
   "outputs": [
    {
     "name": "stdout",
     "output_type": "stream",
     "text": [
      "sudhanshu\n",
      "login\n",
      "sudhanshu enroll into the course\n",
      "100\n"
     ]
    }
   ],
   "source": [
    "# Parent class\n",
    "class User:\n",
    "    def __init__(self):\n",
    "        self.name = 'sudhanshu'\n",
    "        self.gender = 'male'\n",
    "    \n",
    "    def login(self):\n",
    "        print('login')\n",
    "\n",
    "# Child class\n",
    "class Student(User):\n",
    "    def __init__(self):\n",
    "        super().__init__()  # Call the parent class's __init__ method\n",
    "        self.rollno = 100\n",
    "    \n",
    "    def enroll(self):\n",
    "        print(self.name,'enroll into the course')\n",
    "\n",
    "# Create instances\n",
    "u = User()\n",
    "s = Student()\n",
    "\n",
    "# Access attributes and methods\n",
    "print(s.name)  # Access name from the parent class\n",
    "s.login()      # Call login method from the parent class\n",
    "s.enroll()     # Call enroll method from the child class\n",
    "print(s.rollno)"
   ]
  },
  {
   "cell_type": "markdown",
   "id": "a629a253",
   "metadata": {},
   "source": [
    "\n",
    "### What gets inherited?\n",
    "\n",
    "    Constructor\n",
    "    Non Private Attributes\n",
    "    Non Private Methods\n"
   ]
  },
  {
   "cell_type": "markdown",
   "id": "101a53b4",
   "metadata": {},
   "source": [
    "## 4. Polymorphism\n",
    "\n",
    "    Polymorphism allows objects of different classes to be treated as instances of the same superclass. In Python, this is often implemented through method overriding, where subclasses define their unique implementations of a method."
   ]
  },
  {
   "cell_type": "code",
   "execution_count": 67,
   "id": "7e645092",
   "metadata": {},
   "outputs": [],
   "source": [
    "class Animal:\n",
    "    def speak(self):\n",
    "        return \"Some sound\"  # default sound for any animal"
   ]
  },
  {
   "cell_type": "code",
   "execution_count": 68,
   "id": "fec10a39",
   "metadata": {},
   "outputs": [],
   "source": [
    "class Cat(Animal):  # `Cat` is another subclass of `Animal`\n",
    "    def speak(self):\n",
    "        return \"Meow!\"  # override `speak` for Cat class"
   ]
  },
  {
   "cell_type": "code",
   "execution_count": 70,
   "id": "77f38abd",
   "metadata": {},
   "outputs": [],
   "source": [
    "class Dog(Animal):  # `Cat` is another subclass of `Animal`\n",
    "    def speak(self):\n",
    "        return \"warf!\"  # override `speak` for Cat class"
   ]
  },
  {
   "cell_type": "markdown",
   "id": "47e10f48",
   "metadata": {},
   "source": [
    "* `Cat` inherits from `Animal` and overrides the `speak` method to return \"Meow!\" instead."
   ]
  },
  {
   "cell_type": "code",
   "execution_count": 71,
   "id": "ee2ab4a2",
   "metadata": {},
   "outputs": [
    {
     "name": "stdout",
     "output_type": "stream",
     "text": [
      "warf!\n",
      "Meow!\n"
     ]
    }
   ],
   "source": [
    "animals = [Dog(), Cat()]  # List of `Animal` objects (polymorphism)\n",
    "for animal in animals:\n",
    "    print(animal.speak())  # Output: Woof!, Meow!"
   ]
  },
  {
   "cell_type": "markdown",
   "id": "73b771e4",
   "metadata": {},
   "source": [
    "* By creating a list of `Animal` objects, which include both `Dog` and `Cat`, we can iterate through them and call speak on each. Even though each object is treated as an `Animal`, each calls its own version of `speak`, displaying polymorphism in action."
   ]
  },
  {
   "cell_type": "markdown",
   "id": "df85bbf1",
   "metadata": {},
   "source": [
    "## 5. Abstraction\n",
    "Abstraction is a concept where you hide the complexity of the implementation from the user and expose only the necessary details. In Python, abstraction can be achieved using abstract classes and abstract methods from the abc (Abstract Base Class) module. An abstract class can have one or more abstract methods, which are methods that are declared but contain no implementation. Child classes that inherit from the abstract class must implement these abstract methods.\n",
    "\n",
    "   * Abstraction involves hiding unnecessary details from the user and showing only essential features. Python achieves this through abstract base classes (ABCs) defined in the abc module.\n",
    "   * An abstract class cannot be instantiated and is used as a template for other classes"
   ]
  },
  {
   "cell_type": "code",
   "execution_count": 25,
   "id": "2f3eaa0e",
   "metadata": {},
   "outputs": [],
   "source": [
    "from abc import ABC, abstractmethod\n",
    "\n",
    "class Animal(ABC):  # Define an abstract class\n",
    "    @abstractmethod\n",
    "    def speak(self):  # Abstract method (must be overridden)\n",
    "        pass"
   ]
  },
  {
   "cell_type": "markdown",
   "id": "dad8f519",
   "metadata": {},
   "source": [
    "* Here, `Animal` is an abstract class with an abstract method `speak`. Any subclass of `Animal` must implement this method."
   ]
  },
  {
   "cell_type": "code",
   "execution_count": 26,
   "id": "95d6bf5d",
   "metadata": {},
   "outputs": [],
   "source": [
    "class Dog(Animal):  # Concrete class inheriting from abstract class\n",
    "    def speak(self):\n",
    "        return \"Woof!\"  # provide implementation of `speak`"
   ]
  },
  {
   "cell_type": "markdown",
   "id": "eb61dcf4",
   "metadata": {},
   "source": [
    " * `Dog` inherits from `Animal` and provides its own implementation of the `speak` method."
   ]
  },
  {
   "cell_type": "code",
   "execution_count": 27,
   "id": "eccb2914",
   "metadata": {},
   "outputs": [
    {
     "name": "stdout",
     "output_type": "stream",
     "text": [
      "Woof!\n"
     ]
    }
   ],
   "source": [
    "my_dog = Dog()\n",
    "print(my_dog.speak())  # Output: Woof!"
   ]
  },
  {
   "cell_type": "markdown",
   "id": "aff91e91",
   "metadata": {},
   "source": [
    "* When we create an instance of `Dog` and call `speak`, it returns \"Woof!\""
   ]
  },
  {
   "cell_type": "code",
   "execution_count": 28,
   "id": "3bf63378",
   "metadata": {},
   "outputs": [],
   "source": [
    "# Example 1\n",
    "from abc import ABC,abstractmethod\n",
    "class BankApp(ABC):\n",
    "\n",
    "  def database(self):\n",
    "    print('connected to database')\n",
    "\n",
    "  @abstractmethod\n",
    "  def security(self):\n",
    "    pass\n",
    "\n",
    "  @abstractmethod\n",
    "  def display(self):\n",
    "    pass"
   ]
  },
  {
   "cell_type": "code",
   "execution_count": 29,
   "id": "b7b906f8",
   "metadata": {},
   "outputs": [],
   "source": [
    "class MobileApp(BankApp):\n",
    "\n",
    "  def mobile_login(self):\n",
    "    print('login into mobile')\n",
    "\n",
    "  def security(self):\n",
    "    print('mobile security')\n",
    "\n",
    "  def display(self):\n",
    "    print('display')"
   ]
  },
  {
   "cell_type": "code",
   "execution_count": 30,
   "id": "d807f120",
   "metadata": {},
   "outputs": [],
   "source": [
    "mob = MobileApp()"
   ]
  },
  {
   "cell_type": "code",
   "execution_count": 31,
   "id": "571497ab",
   "metadata": {},
   "outputs": [
    {
     "name": "stdout",
     "output_type": "stream",
     "text": [
      "mobile security\n"
     ]
    }
   ],
   "source": [
    "mob.security()"
   ]
  },
  {
   "cell_type": "code",
   "execution_count": 32,
   "id": "4225f780",
   "metadata": {},
   "outputs": [
    {
     "ename": "TypeError",
     "evalue": "Can't instantiate abstract class BankApp with abstract methods display, security",
     "output_type": "error",
     "traceback": [
      "\u001b[1;31m---------------------------------------------------------------------------\u001b[0m",
      "\u001b[1;31mTypeError\u001b[0m                                 Traceback (most recent call last)",
      "Cell \u001b[1;32mIn[32], line 1\u001b[0m\n\u001b[1;32m----> 1\u001b[0m obj \u001b[38;5;241m=\u001b[39m \u001b[43mBankApp\u001b[49m\u001b[43m(\u001b[49m\u001b[43m)\u001b[49m\n",
      "\u001b[1;31mTypeError\u001b[0m: Can't instantiate abstract class BankApp with abstract methods display, security"
     ]
    }
   ],
   "source": [
    "obj = BankApp()"
   ]
  },
  {
   "cell_type": "markdown",
   "id": "beaf5e8d",
   "metadata": {},
   "source": [
    "## Difference Between Encapsulation and Abstraction\n",
    "\n",
    "Both encapsulation and abstraction are fundamental Object-Oriented Programming (OOP) concepts, but they serve different purposes. Here’s a breakdown of the key differences:\n",
    "### 1. Purpose\n",
    "\n",
    "   * Encapsulation:\n",
    "      * Encapsulation is the concept of bundling the data (attributes) and methods (functions) that operate on the data within a single unit, or class.\n",
    "      * The primary goal is to protect the internal state of an object and restrict direct access to certain details of the object, making the object safer and easier to use.\n",
    "      * It involves hiding the internal state and providing getter and setter methods to access and modify that state.\n",
    "\n",
    "   * Abstraction:\n",
    "       * Abstraction is the concept of hiding the complex implementation details and showing only the essential features of the object.\n",
    "       * The goal is to simplify the complexity by only exposing the relevant aspects to the user, making it easier to understand and interact with an object.\n",
    "       * It involves defining abstract classes and abstract methods that must be implemented by subclasses.\n",
    "\n",
    "### 2. Visibility\n",
    "\n",
    "   * Encapsulation:\n",
    "       *  Encapsulation is about controlling visibility through access modifiers such as private (_variable) or protected (__variable) variables in Python.\n",
    "       * It helps to protect data and restrict access to sensitive data and functionality, usually by making certain attributes and methods private (or protected).\n",
    "\n",
    "   * Abstraction:\n",
    "       * Abstraction hides complexity by focusing on what an object does, rather than how it does it.\n",
    "       * It exposes only essential details and hides the unnecessary implementation details, typically through abstract methods or interfaces.\n",
    "\n",
    "### 3. Implementation Mechanism\n",
    "\n",
    "   * Encapsulation:\n",
    "       * Achieved by using access modifiers (like private, protected, and public) to hide the internal state and behavior of an object.\n",
    "       * It uses getter and setter methods to access or modify private attributes.\n",
    "\n",
    "   * Abstraction:\n",
    "       * Achieved through abstract classes and abstract methods (in Python, using the abc module).\n",
    "       * It defines abstract methods that must be implemented in derived classes, but the implementation is hidden from the user."
   ]
  },
  {
   "cell_type": "markdown",
   "id": "143858d5",
   "metadata": {},
   "source": [
    "| **Aspect**            | **Encapsulation**                                           | **Abstraction**                                                |\n",
    "|-----------------------|-------------------------------------------------------------|---------------------------------------------------------------|\n",
    "| **Goal**              | Hide data and restrict access to protect internal state     | Hide implementation details, expose only necessary information |\n",
    "| **Focus**             | Data protection and access control                         | Simplification by hiding complexity                           |\n",
    "| **Implementation**    | Using access modifiers and getter/setter methods           | Using abstract classes and abstract methods                   |\n",
    "| **Visibility**        | Internal state is hidden and accessed through methods       | Only relevant methods are exposed, implementation is hidden  |\n",
    "| **Example**           | Private variables, setter/getter methods                    | Abstract classes and methods                                  |\n"
   ]
  },
  {
   "cell_type": "code",
   "execution_count": 33,
   "id": "8dbb6821",
   "metadata": {},
   "outputs": [
    {
     "name": "stdout",
     "output_type": "stream",
     "text": [
      "Area of the circle: 78.53981633974483\n",
      "Area of the rectangle: 24\n"
     ]
    }
   ],
   "source": [
    "from abc import ABC, abstractmethod\n",
    "import math\n",
    "\n",
    "# Abstract class\n",
    "class Shape(ABC):\n",
    "    \n",
    "    @abstractmethod\n",
    "    def area(self):\n",
    "        pass  # Abstract method, to be implemented by child classes\n",
    "\n",
    "# Derived class for Circle\n",
    "class Circle(Shape):\n",
    "    def __init__(self, radius):\n",
    "        self.radius = radius\n",
    "    \n",
    "    def area(self):\n",
    "        return math.pi * self.radius ** 2  # Area of circle: π * r^2\n",
    "\n",
    "# Derived class for Rectangle\n",
    "class Rectangle(Shape):\n",
    "    def __init__(self, length, width):\n",
    "        self.length = length\n",
    "        self.width = width\n",
    "    \n",
    "    def area(self):\n",
    "        return self.length * self.width  # Area of rectangle: length * width\n",
    "\n",
    "# Create instances of the derived classes\n",
    "circle = Circle(5)\n",
    "rectangle = Rectangle(4, 6)\n",
    "\n",
    "# Display areas\n",
    "print(f\"Area of the circle: {circle.area()}\")  # Expected Output: Area of the circle: 78.53981633974483\n",
    "print(f\"Area of the rectangle: {rectangle.area()}\")  # Expected Output: Area of the rectangle: 24"
   ]
  },
  {
   "cell_type": "markdown",
   "id": "c76760d4",
   "metadata": {},
   "source": [
    "## Difference between Instance variable and class variable"
   ]
  },
  {
   "cell_type": "markdown",
   "id": "29884509",
   "metadata": {},
   "source": [
    "In Object-Oriented Programming (OOP), instance variables and class variables are two types of variables used to store data. They differ in terms of their scope, usage, and how they are accessed. Here's a breakdown of the differences between instance variables and class variables:"
   ]
  },
  {
   "cell_type": "markdown",
   "id": "a308d1d0",
   "metadata": {},
   "source": [
    "### 1. Definition\n",
    "\n",
    "   * Instance Variables:\n",
    "       * These are variables that are specific to an instance (object) of the class.\n",
    "       * Each object created from the class has its own copy of instance variables.\n",
    "       * They are typically defined inside the `__init__` constructor method using self.\n",
    "\n",
    "   * Class Variables:\n",
    "        * These are variables that are shared across all instances of the class.\n",
    "        * There is only one copy of a class variable, and it is shared by all objects of the class.\n",
    "        * They are usually defined directly inside the class, outside of any methods.\n",
    "\n",
    "### 2. Scope\n",
    "\n",
    "   * Instance Variables:\n",
    "       * The scope of an instance variable is limited to the object it belongs to.\n",
    "       * Each instance of the class can have different values for instance variables.\n",
    "\n",
    "   * Class Variables:\n",
    "       * The scope of a class variable is at the class level and is shared among all instances of that class.\n",
    "       * Modifying a class variable will affect all instances of the class unless it is overridden by an instance variable.\n",
    "\n",
    "### 3. Access\n",
    "\n",
    "   * Instance Variables:\n",
    "       * Accessed through the object (instance) using object.variable_name.\n",
    "       * They can be different for each object created from the class.\n",
    "\n",
    "   * Class Variables:\n",
    "        * Accessed through the class name using ClassName.variable_name or through any instance of the class.\n",
    "        * They are generally the same for all instances unless overridden by an instance variable.\n",
    "\n",
    "### 4. Use Cases\n",
    "\n",
    "   * Instance Variables:\n",
    "        * Use instance variables to store data that is unique to each instance (e.g., name, age, balance for different users).\n",
    "   * Class Variables:\n",
    "        * Use class variables to store data that should be common across all instances (e.g., a constant or a counter that tracks how many instances of the class have been created)."
   ]
  },
  {
   "cell_type": "code",
   "execution_count": 34,
   "id": "b7fdab43",
   "metadata": {},
   "outputs": [
    {
     "name": "stdout",
     "output_type": "stream",
     "text": [
      "Buddy\n",
      "5\n",
      "Canine\n",
      "Canine\n",
      "Canine\n",
      "Feline\n",
      "Feline\n"
     ]
    }
   ],
   "source": [
    "class Dog:\n",
    "    # Class variable (shared by all instances)\n",
    "    species = \"Canine\"  # Common to all dogs\n",
    "    \n",
    "    def __init__(self, name, age):\n",
    "        # Instance variables (unique to each instance)\n",
    "        self.name = name\n",
    "        self.age = age\n",
    "\n",
    "# Create instances\n",
    "dog1 = Dog(\"Buddy\", 3)\n",
    "dog2 = Dog(\"Max\", 5)\n",
    "\n",
    "# Accessing instance variables\n",
    "print(dog1.name)  # Output: Buddy\n",
    "print(dog2.age)   # Output: 5\n",
    "\n",
    "# Accessing class variable\n",
    "print(dog1.species)  # Output: Canine\n",
    "print(dog2.species)  # Output: Canine\n",
    "print(Dog.species)   # Output: Canine\n",
    "\n",
    "# Modifying class variable\n",
    "Dog.species = \"Feline\"\n",
    "print(dog1.species)  # Output: Feline\n",
    "print(dog2.species)  # Output: Feline"
   ]
  },
  {
   "cell_type": "markdown",
   "id": "efe762d7",
   "metadata": {},
   "source": [
    "### Static Methods and Class Methods in Python"
   ]
  },
  {
   "cell_type": "markdown",
   "id": "818b713e",
   "metadata": {},
   "source": [
    "In Python, both **static methods** and **class methods** are special types of methods that behave differently from regular instance methods. They are defined using decorators: `@staticmethod` and `@classmethod`."
   ]
  },
  {
   "cell_type": "markdown",
   "id": "16be27eb",
   "metadata": {},
   "source": [
    "### 1. Static Methods (@staticmethod)\n",
    "#### Definition:\n",
    "\n",
    "   * A static method is a method that does not operate on the instance (self) or the class (cls) it is associated with.\n",
    "    * It is essentially a plain function defined inside a class for organizational purposes.\n",
    "   * It cannot access or modify instance or class attributes directly.\n",
    "\n",
    "#### Usage:\n",
    "\n",
    "   *  Used for utility or helper methods that do not depend on the state of the instance or class.\n",
    "   *  Often used for tasks like calculations, validations, or operations logically related to the class."
   ]
  },
  {
   "cell_type": "markdown",
   "id": "4d8c0696",
   "metadata": {},
   "source": [
    "How to Define a Static Method:\n",
    "\n",
    "Use the **@staticmethod decorator.**"
   ]
  },
  {
   "cell_type": "code",
   "execution_count": 1,
   "id": "adc4d1b5",
   "metadata": {},
   "outputs": [
    {
     "name": "stdout",
     "output_type": "stream",
     "text": [
      "Hello, Alice!\n"
     ]
    }
   ],
   "source": [
    "class Example:\n",
    "    @staticmethod\n",
    "    def greet(name):\n",
    "        return f\"Hello, {name}!\"\n",
    "\n",
    "# Usage\n",
    "print(Example.greet(\"Alice\"))  # Output: Hello, Alice!"
   ]
  },
  {
   "cell_type": "markdown",
   "id": "290315d4",
   "metadata": {},
   "source": [
    "#### Key Characteristics:\n",
    "\n",
    "    1.No self or cls Parameters: It does not take self (instance) or cls (class) as the first argument.\n",
    "    2.Access: Can be called on both the class and its instances.\n",
    "    3.Independent: Operates independently of the class or instance."
   ]
  },
  {
   "cell_type": "markdown",
   "id": "01875b30",
   "metadata": {},
   "source": [
    "### 2. Class Methods (@classmethod)\n",
    "#### Definition:\n",
    "\n",
    "   * A class method is a method that operates on the class itself, not the instance of the class.\n",
    "   * It takes the class as the first argument, conventionally named cls.\n",
    "   * It can modify or access class-level attributes and methods but cannot directly access instance attributes.\n",
    "\n",
    "#### Usage:\n",
    "\n",
    "   * Used to create factory methods that return instances of the class.\n",
    "   * Useful for accessing or modifying class-level state or performing actions relevant to the class as a whole"
   ]
  },
  {
   "cell_type": "markdown",
   "id": "39bbca79",
   "metadata": {},
   "source": [
    "How to Define a Class Method:\n",
    "\n",
    "Use the **@classmethod decorator**."
   ]
  },
  {
   "cell_type": "code",
   "execution_count": 2,
   "id": "871203d8",
   "metadata": {},
   "outputs": [
    {
     "name": "stdout",
     "output_type": "stream",
     "text": [
      "1\n",
      "2\n"
     ]
    }
   ],
   "source": [
    "class Example:\n",
    "    counter = 0  # Class attribute\n",
    "\n",
    "    @classmethod\n",
    "    def increment_counter(cls):\n",
    "        cls.counter += 1\n",
    "        return cls.counter\n",
    "\n",
    "# Usage\n",
    "print(Example.increment_counter())  # Output: 1\n",
    "print(Example.increment_counter())  # Output: 2"
   ]
  },
  {
   "cell_type": "markdown",
   "id": "b24becea",
   "metadata": {},
   "source": [
    "Create a class `Library` that keeps track of the total number of books issued using a class method. It should also have a static method to display the library's name."
   ]
  },
  {
   "cell_type": "code",
   "execution_count": 5,
   "id": "14ee3c17",
   "metadata": {},
   "outputs": [
    {
     "name": "stdout",
     "output_type": "stream",
     "text": [
      "Total Books Issued: 3\n",
      "Library Name: City Central Library\n"
     ]
    }
   ],
   "source": [
    "class Library:\n",
    "    books_issued = 0  # Class attribute\n",
    "    library_name = \"City Central Library\"\n",
    "\n",
    "    def __init__(self, book_name):\n",
    "        self.book_name = book_name\n",
    "        Library.books_issued += 1\n",
    "\n",
    "    @classmethod\n",
    "    def total_books_issued(cls):\n",
    "        return f\"Total Books Issued: {cls.books_issued}\"\n",
    "\n",
    "    @staticmethod\n",
    "    def display_library_name():\n",
    "        return f\"Library Name: {Library.library_name}\"\n",
    "\n",
    "# Usage\n",
    "b1 = Library(\"Python Programming\")\n",
    "b2 = Library(\"Data Science Handbook\")\n",
    "b3 = Library(\"AI Basics\")\n",
    "\n",
    "print(Library.total_books_issued())     # Output: Total Books Issued: 3\n",
    "print(Library.display_library_name())   # Output: Library Name: City Central Library"
   ]
  },
  {
   "cell_type": "code",
   "execution_count": null,
   "id": "e0b37c03",
   "metadata": {},
   "outputs": [],
   "source": []
  }
 ],
 "metadata": {
  "kernelspec": {
   "display_name": "Python 3 (ipykernel)",
   "language": "python",
   "name": "python3"
  },
  "language_info": {
   "codemirror_mode": {
    "name": "ipython",
    "version": 3
   },
   "file_extension": ".py",
   "mimetype": "text/x-python",
   "name": "python",
   "nbconvert_exporter": "python",
   "pygments_lexer": "ipython3",
   "version": "3.11.5"
  }
 },
 "nbformat": 4,
 "nbformat_minor": 5
}
